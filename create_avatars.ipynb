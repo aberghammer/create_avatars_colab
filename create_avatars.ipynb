{
  "nbformat": 4,
  "nbformat_minor": 0,
  "metadata": {
    "colab": {
      "name": "Untitled0.ipynb",
      "provenance": [],
      "authorship_tag": "ABX9TyMJN6INoT+Pf6kbKWUlyAf/",
      "include_colab_link": true
    },
    "kernelspec": {
      "name": "python3",
      "display_name": "Python 3"
    }
  },
  "cells": [
    {
      "cell_type": "markdown",
      "metadata": {
        "id": "view-in-github",
        "colab_type": "text"
      },
      "source": [
        "<a href=\"https://colab.research.google.com/github/aberghammer/create_avatars_colab/blob/main/create_avatars.ipynb\" target=\"_parent\"><img src=\"https://colab.research.google.com/assets/colab-badge.svg\" alt=\"Open In Colab\"/></a>"
      ]
    },
    {
      "cell_type": "markdown",
      "metadata": {
        "id": "H2J5ZJAUoZ6z"
      },
      "source": [
        "**Creating Avatar Images by your own**\n",
        "\n",
        "If you want, you can create thousands of new faces with the next lines of code, which differs from the displayed ones.\n",
        "\n",
        "All you need is this notebook and your google drive with some free storage.\n",
        "\n",
        "\n",
        "\n",
        "\n"
      ]
    },
    {
      "cell_type": "markdown",
      "metadata": {
        "id": "V3KAUZglxSt9"
      },
      "source": [
        "**Downloading an placing the model file in your google drive folder**\n",
        "\n",
        "You will need the model file to create the fantasy characters. Download it and place it in your google drive account. \n",
        "\n",
        "e.g. /Networks/fantasy.pkl"
      ]
    },
    {
      "cell_type": "markdown",
      "metadata": {
        "id": "myNhJ42cplst"
      },
      "source": [
        "**Mounting your Google Drive**\n",
        "\n",
        "It is necessary to install the NVIDIA StyleGAN2-ada project in your google drive account to run the codings. \n",
        " run the snippet below, navigate to your google drive account\n",
        "\n",
        "*   run the snippet below\n",
        "*   navigate to your google drive account\n",
        "*   allow the access\n",
        "*   copy the URL in the text box and hit enter\n",
        "\n",
        "Now your colab notebook and your google drive are connected for this session. You have to always run this if you start a new session.\n",
        "\n"
      ]
    },
    {
      "cell_type": "code",
      "metadata": {
        "id": "qesbI1YtpI1D",
        "outputId": "9da84a9c-c19d-4d9c-f3fa-f93eb9e65df1",
        "colab": {
          "base_uri": "https://localhost:8080/"
        }
      },
      "source": [
        "from google.colab import drive\n",
        "drive.mount('/content/drive')"
      ],
      "execution_count": 2,
      "outputs": [
        {
          "output_type": "stream",
          "text": [
            "Mounted at /content/drive\n"
          ],
          "name": "stdout"
        }
      ]
    },
    {
      "cell_type": "markdown",
      "metadata": {
        "id": "io10PhtPpJ9F"
      },
      "source": [
        "**Install the repository in your google drive**\n",
        "\n",
        "Next, run this cell. If you’re already installed the repo, it will skip the installation process and change into the repo’s directory. If you haven’t installed it, it will install all the files necessary."
      ]
    },
    {
      "cell_type": "code",
      "metadata": {
        "id": "Uih_-hPBqp1D"
      },
      "source": [
        "import os\n",
        "if os.path.isdir(\"/content/drive/My Drive/colab-sg2-ada\"):\n",
        "    %cd \"/content/drive/My Drive/colab-sg2-ada/stylegan2-ada\"\n",
        "else:\n",
        "    #install script\n",
        "    %cd \"/content/drive/My Drive/\"\n",
        "    !mkdir colab-sg2-ada\n",
        "    %cd colab-sg2-ada\n",
        "    !git clone https://github.com/NVlabs/stylegan2-ada.git\n",
        "    %cd stylegan2-ada\n",
        "    !mkdir downloads\n",
        "    !mkdir datasets"
      ],
      "execution_count": null,
      "outputs": []
    },
    {
      "cell_type": "markdown",
      "metadata": {
        "id": "99ISctaKs88g"
      },
      "source": [
        "Navigate in the created folder:"
      ]
    },
    {
      "cell_type": "code",
      "metadata": {
        "id": "b_wHTCaes_XJ"
      },
      "source": [
        "%cd \"/content/drive/My Drive/colab-sg2-ada/stylegan2-ada\""
      ],
      "execution_count": null,
      "outputs": []
    },
    {
      "cell_type": "markdown",
      "metadata": {
        "id": "9Mgf3zeCroHz"
      },
      "source": [
        "**Generate your images**\n",
        "\n",
        "Now you can generate your images (you will need the path to the model file you downloaded from our website and link it.\n",
        "\n",
        "Use the --seeds option to tell the network which images should be created. \n",
        "For example you can use it like --seeds=12 for creating 3 images with corresponding seed 12. The same seed will always generate the same image. You can generate specific images when comma separating them: seed=12,500,99,8.\n",
        "\n",
        "You can also generate a lot of images when you use a range for the seed: --seeds=1000-1200 would generate 200 images.\n",
        "\n",
        "You also can play with the truncation-psi value between 0 and 1. A value close to 0 gives more \"realistic\" images. A value close to 1 is given a more free interpretation.\n"
      ]
    },
    {
      "cell_type": "code",
      "metadata": {
        "id": "basfYC42s0WR"
      },
      "source": [
        "python generate.py --network /content/drive/My Drive/Networks/fantasy.pkl  --seeds=1000-1005 --truncation-psi=0"
      ],
      "execution_count": null,
      "outputs": []
    }
  ]
}