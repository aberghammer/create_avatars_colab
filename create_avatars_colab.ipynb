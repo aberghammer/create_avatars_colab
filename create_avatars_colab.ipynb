{
  "nbformat": 4,
  "nbformat_minor": 0,
  "metadata": {
    "colab": {
      "name": "create_avatars_colab.ipynb",
      "provenance": [],
      "collapsed_sections": [],
      "toc_visible": true,
      "authorship_tag": "ABX9TyO7kdckxIbEP4wrw/efk1RR",
      "include_colab_link": true
    },
    "kernelspec": {
      "name": "python3",
      "display_name": "Python 3"
    },
    "accelerator": "GPU"
  },
  "cells": [
    {
      "cell_type": "markdown",
      "metadata": {
        "id": "view-in-github",
        "colab_type": "text"
      },
      "source": [
        "<a href=\"https://colab.research.google.com/github/aberghammer/create_avatars_colab/blob/main/create_avatars_colab.ipynb\" target=\"_parent\"><img src=\"https://colab.research.google.com/assets/colab-badge.svg\" alt=\"Open In Colab\"/></a>"
      ]
    },
    {
      "cell_type": "markdown",
      "metadata": {
        "id": "H2J5ZJAUoZ6z"
      },
      "source": [
        "**Creating Avatar Images by your own**\n",
        "\n",
        "If you want, you can create thousands of new faces with the next lines of code, which differs from the displayed ones.\n",
        "\n",
        "All you need is this notebook and your google drive with some free storage.\n",
        "\n",
        "\n",
        "\n",
        "\n"
      ]
    },
    {
      "cell_type": "markdown",
      "metadata": {
        "id": "V3KAUZglxSt9"
      },
      "source": [
        "**Downloading an placing the model file in your google drive folder**\n",
        "\n",
        "You will need the model file to create the fantasy characters. Download it and place it in your google drive account. \n",
        "\n",
        "e.g. /Networks/fantasy.pkl"
      ]
    },
    {
      "cell_type": "markdown",
      "metadata": {
        "id": "LKudtf_X5eRS"
      },
      "source": [
        "First of all we have to enable Tensorflow in version 1.x"
      ]
    },
    {
      "cell_type": "code",
      "metadata": {
        "id": "PWzjSgyH5lOt",
        "outputId": "a9f42b8c-744c-4197-c3cf-ff9781ddc78d",
        "colab": {
          "base_uri": "https://localhost:8080/"
        }
      },
      "source": [
        "%tensorflow_version 1.x"
      ],
      "execution_count": 1,
      "outputs": [
        {
          "output_type": "stream",
          "text": [
            "TensorFlow 1.x selected.\n"
          ],
          "name": "stdout"
        }
      ]
    },
    {
      "cell_type": "markdown",
      "metadata": {
        "id": "myNhJ42cplst"
      },
      "source": [
        "**Mounting your Google Drive**\n",
        "\n",
        "It is necessary to install the NVIDIA StyleGAN2-ada project in your google drive account to run the codings. \n",
        " run the snippet below, navigate to your google drive account\n",
        "\n",
        "*   run the snippet below\n",
        "*   navigate to your google drive account\n",
        "*   allow the access\n",
        "*   copy the URL in the text box and hit enter\n",
        "\n",
        "Now your colab notebook and your google drive are connected for this session. You have to always run this if you start a new session.\n",
        "\n"
      ]
    },
    {
      "cell_type": "code",
      "metadata": {
        "id": "qesbI1YtpI1D",
        "outputId": "e73c82ec-daed-456c-f719-ac3e8bad1161",
        "colab": {
          "base_uri": "https://localhost:8080/"
        }
      },
      "source": [
        "from google.colab import drive\n",
        "drive.mount('/content/drive')"
      ],
      "execution_count": 2,
      "outputs": [
        {
          "output_type": "stream",
          "text": [
            "Mounted at /content/drive\n"
          ],
          "name": "stdout"
        }
      ]
    },
    {
      "cell_type": "markdown",
      "metadata": {
        "id": "io10PhtPpJ9F"
      },
      "source": [
        "**Install the repository in your google drive**\n",
        "\n",
        "Next, run this cell. If you’re already installed the repo, it will skip the installation process and change into the repo’s directory. If you haven’t installed it, it will install all the files necessary."
      ]
    },
    {
      "cell_type": "code",
      "metadata": {
        "id": "Uih_-hPBqp1D",
        "outputId": "c7ab5fc3-d3bd-4613-8886-d9a4b39c537a",
        "colab": {
          "base_uri": "https://localhost:8080/"
        }
      },
      "source": [
        "import os\n",
        "if os.path.isdir(\"/content/drive/My Drive/colab-sg2-ada\"):\n",
        "    %cd \"/content/drive/My Drive/colab-sg2-ada/stylegan2-ada\"\n",
        "else:\n",
        "    #install script\n",
        "    %cd \"/content/drive/My Drive/\"\n",
        "    !mkdir colab-sg2-ada\n",
        "    %cd colab-sg2-ada\n",
        "    !git clone https://github.com/NVlabs/stylegan2-ada.git\n",
        "    %cd stylegan2-ada\n",
        "    !mkdir downloads\n",
        "    !mkdir datasets\n",
        "    !mkdir avatars"
      ],
      "execution_count": null,
      "outputs": [
        {
          "output_type": "stream",
          "text": [
            "/content/drive/My Drive\n",
            "/content/drive/My Drive/colab-sg2-ada\n",
            "Cloning into 'stylegan2-ada'...\n",
            "remote: Enumerating objects: 65, done.\u001b[K\n",
            "remote: Total 65 (delta 0), reused 0 (delta 0), pack-reused 65\u001b[K\n",
            "Unpacking objects: 100% (65/65), done.\n",
            "/content/drive/My Drive/colab-sg2-ada/stylegan2-ada\n"
          ],
          "name": "stdout"
        }
      ]
    },
    {
      "cell_type": "markdown",
      "metadata": {
        "id": "99ISctaKs88g"
      },
      "source": [
        "Navigate in the created folder:"
      ]
    },
    {
      "cell_type": "code",
      "metadata": {
        "id": "b_wHTCaes_XJ",
        "outputId": "46bc6ace-90ad-4f2f-f1cb-e23569c325af",
        "colab": {
          "base_uri": "https://localhost:8080/"
        }
      },
      "source": [
        "%cd \"/content/drive/My Drive/colab-sg2-ada/stylegan2-ada\""
      ],
      "execution_count": 3,
      "outputs": [
        {
          "output_type": "stream",
          "text": [
            "/content/drive/My Drive/colab-sg2-ada/stylegan2-ada\n"
          ],
          "name": "stdout"
        }
      ]
    },
    {
      "cell_type": "markdown",
      "metadata": {
        "id": "9Mgf3zeCroHz"
      },
      "source": [
        "**Generate your images**\n",
        "\n",
        "Now you can generate your images (you will need the path to the model file you downloaded from our website and link it.\n",
        "\n",
        "Use the --seeds option to tell the network which images should be created. \n",
        "For example you can use it like --seeds=12 for creating 3 images with corresponding seed 12. The same seed will always generate the same image. You can generate specific images when comma separating them: seed=12,500,99,8.\n",
        "\n",
        "You can also generate a lot of images when you use a range for the seed: --seeds=1000-1200 would generate 200 images.\n",
        "\n",
        "You also can play with the truncation-psi value between 0 and 1. A value close to 0 gives more \"realistic\" images. A value close to 1 is given a more free interpretation.\n"
      ]
    },
    {
      "cell_type": "code",
      "metadata": {
        "id": "basfYC42s0WR",
        "outputId": "8b18169c-bc93-4d23-b19a-931a8546446c",
        "colab": {
          "base_uri": "https://localhost:8080/"
        }
      },
      "source": [
        "!python generate.py --network /content/drive/My\\ Drive/Networks/fantasy.pkl --outdir /content/drive/My\\ Drive/colab-sg2-ada/stylegan2-ada/avatars  --seeds=80,200,600,1005 --trunc=0.5"
      ],
      "execution_count": 8,
      "outputs": [
        {
          "output_type": "stream",
          "text": [
            "Loading networks from \"/content/drive/My Drive/Networks/fantasy.pkl\"...\n",
            "Setting up TensorFlow plugin \"fused_bias_act.cu\": Loading... Done.\n",
            "Setting up TensorFlow plugin \"upfirdn_2d.cu\": Loading... Done.\n",
            "Generating image for seed 80 (0/4) ...\n",
            "Generating image for seed 200 (1/4) ...\n",
            "Generating image for seed 600 (2/4) ...\n",
            "Generating image for seed 1005 (3/4) ...\n"
          ],
          "name": "stdout"
        }
      ]
    },
    {
      "cell_type": "markdown",
      "metadata": {
        "id": "9JGYLzIZz0Vi"
      },
      "source": [
        "**Download your images**\n",
        "\n",
        "You find your Images in google drive and can download them.\n"
      ]
    },
    {
      "cell_type": "markdown",
      "metadata": {
        "id": "e15-bkij0RUw"
      },
      "source": [
        "**Special Thanks**\n",
        "\n",
        "Special thanks to Derrik Schultz and the team from \"Artificial Images\". The videos helped us a lot to develop the models.\n",
        "Check out their youtube channel for awesome videos: \n",
        "https://www.youtube.com/user/bustbright/videos\n"
      ]
    }
  ]
}