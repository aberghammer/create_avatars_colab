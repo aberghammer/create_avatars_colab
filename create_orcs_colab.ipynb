{
  "nbformat": 4,
  "nbformat_minor": 0,
  "metadata": {
    "colab": {
      "name": "create_orcs_colab.ipynb",
      "provenance": [],
      "collapsed_sections": [],
      "toc_visible": true,
      "authorship_tag": "ABX9TyOJj67gZi6kFQSq2Xr8jIsU",
      "include_colab_link": true
    },
    "kernelspec": {
      "name": "python3",
      "display_name": "Python 3"
    },
    "accelerator": "GPU"
  },
  "cells": [
    {
      "cell_type": "markdown",
      "metadata": {
        "id": "view-in-github",
        "colab_type": "text"
      },
      "source": [
        "<a href=\"https://colab.research.google.com/github/aberghammer/create_avatars_colab/blob/main/create_orcs_colab.ipynb\" target=\"_parent\"><img src=\"https://colab.research.google.com/assets/colab-badge.svg\" alt=\"Open In Colab\"/></a>"
      ]
    },
    {
      "cell_type": "markdown",
      "metadata": {
        "id": "w1GrZIwOrDlH"
      },
      "source": [
        "**Important Enable GPU**\n",
        "\n",
        "Go to **Runtime** in the menu bar and select **change runtime type** to gpu:\n",
        "\n",
        "![gpu.PNG](data:image/png;base64,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)"
      ]
    },
    {
      "cell_type": "markdown",
      "metadata": {
        "id": "HjLDc2_0qgza"
      },
      "source": [
        "**Connect your Google Drive folder**\n",
        "\n",
        "You have to click on this link in the browser and allow the notebook to access your Google Drive. This is necessary, because we want to store the model file and save the generated images in Google Drive. \n"
      ]
    },
    {
      "cell_type": "code",
      "metadata": {
        "colab": {
          "base_uri": "https://localhost:8080/"
        },
        "id": "wv4UjtGYv6cS",
        "outputId": "f63f695c-0c35-43a4-d444-0ee72c3bf767"
      },
      "source": [
        "%tensorflow_version 1.x\n",
        "from google.colab import drive\n",
        "drive.mount('/content/drive')"
      ],
      "execution_count": 1,
      "outputs": [
        {
          "output_type": "stream",
          "text": [
            "TensorFlow 1.x selected.\n",
            "Drive already mounted at /content/drive; to attempt to forcibly remount, call drive.mount(\"/content/drive\", force_remount=True).\n"
          ],
          "name": "stdout"
        }
      ]
    },
    {
      "cell_type": "code",
      "metadata": {
        "colab": {
          "base_uri": "https://localhost:8080/"
        },
        "id": "4gzej8Tnp7MN",
        "outputId": "79b6d541-a82b-421a-aa98-6d7f39992d21"
      },
      "source": [
        "import os\n",
        "if not os.path.isdir(\"/content/drive/My Drive/orcs\"):\n",
        "    #install script\n",
        "    %cd \"/content/drive/My Drive/\"\n",
        "    !mkdir orcs\n",
        "    %cd orcs\n",
        "\n",
        "%cd \"/content/drive/My Drive/orcs\"\n",
        "!wget https://www.mediafire.com/file/rjx253xsz6yfaac/orcs.pkl\n",
        "\n",
        "if not os.path.isdir(\"/content/drive/My Drive/orcs/images\"):\n",
        "  %cd \"/content/drive/My Drive/orcs\"\n",
        "  !mkdir images\n",
        "\n",
        "\n",
        "import os\n",
        "if os.path.isdir(\"/content/drive/My Drive/colab-sg2-ada\"):\n",
        "    %cd \"/content/drive/My Drive/colab-sg2-ada/stylegan2-ada\"\n",
        "else:\n",
        "    #install script\n",
        "    %cd \"/content/drive/My Drive/\"\n",
        "    !mkdir colab-sg2-ada\n",
        "    %cd colab-sg2-ada\n",
        "    !git clone https://github.com/NVlabs/stylegan2-ada.git\n",
        "    %cd stylegan2-ada\n",
        "\n",
        "\n"
      ],
      "execution_count": 6,
      "outputs": [
        {
          "output_type": "stream",
          "text": [
            "/content/drive/My Drive/orcs\n",
            "--2021-06-21 18:15:14--  https://www.mediafire.com/file/rjx253xsz6yfaac/orcs.pkl\n",
            "Resolving www.mediafire.com (www.mediafire.com)... 104.16.202.237, 104.16.203.237\n",
            "Connecting to www.mediafire.com (www.mediafire.com)|104.16.202.237|:443... connected.\n",
            "HTTP request sent, awaiting response... 302 Found\n",
            "Location: https://www.mediafire.com/file/rjx253xsz6yfaac/orcs.pkl/file [following]\n",
            "--2021-06-21 18:15:14--  https://www.mediafire.com/file/rjx253xsz6yfaac/orcs.pkl/file\n",
            "Reusing existing connection to www.mediafire.com:443.\n",
            "HTTP request sent, awaiting response... 200 OK\n",
            "Length: unspecified [text/html]\n",
            "Saving to: ‘orcs.pkl.1’\n",
            "\n",
            "orcs.pkl.1              [ <=>                ] 306.93K  --.-KB/s    in 0.03s   \n",
            "\n",
            "2021-06-21 18:15:15 (9.14 MB/s) - ‘orcs.pkl.1’ saved [314297]\n",
            "\n",
            "/content/drive/My Drive/colab-sg2-ada/stylegan2-ada\n"
          ],
          "name": "stdout"
        }
      ]
    },
    {
      "cell_type": "markdown",
      "metadata": {
        "id": "huVHwdPuyO0k"
      },
      "source": [
        "**Here you can generate your images**\n",
        "\n",
        "Example:\n",
        "\n",
        "\n",
        "\n",
        "*   seeds=1-1000 --> generate 1000 images\n",
        "*   seeds=2000-3000 --> generate another 1000 images different from the first one\n",
        "\n",
        "\n",
        "Different seed means different images. You can use whatever you want for different images:\n",
        "\n",
        "*   seeds=9181-10000 \n",
        "\n",
        "\n"
      ]
    },
    {
      "cell_type": "code",
      "metadata": {
        "colab": {
          "base_uri": "https://localhost:8080/"
        },
        "id": "8nQkVIS5xJH1",
        "outputId": "18104155-598c-453d-c5bd-8d3a24309c1a"
      },
      "source": [
        "\n",
        "!python generate.py --network /content/drive/My\\ Drive/orcs/orcs.pkl --outdir /content/drive/My\\ Drive/orcs/images  --seeds=80,200,600,1005 --trunc=0.5"
      ],
      "execution_count": 7,
      "outputs": [
        {
          "output_type": "stream",
          "text": [
            "Loading networks from \"/content/drive/My Drive/orcs/orcs.pkl\"...\n",
            "Setting up TensorFlow plugin \"fused_bias_act.cu\": Loading... Done.\n",
            "Setting up TensorFlow plugin \"upfirdn_2d.cu\": Loading... Done.\n",
            "Generating image for seed 80 (0/4) ...\n",
            "Generating image for seed 200 (1/4) ...\n",
            "Generating image for seed 600 (2/4) ...\n",
            "Generating image for seed 1005 (3/4) ...\n"
          ],
          "name": "stdout"
        }
      ]
    },
    {
      "cell_type": "markdown",
      "metadata": {
        "id": "9JGYLzIZz0Vi"
      },
      "source": [
        "**Download your images**\n",
        "\n",
        "You find your Images in google drive and can download them.\n"
      ]
    }
  ]
}